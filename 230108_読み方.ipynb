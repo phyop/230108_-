# Google - Niihonngo

免罪符　メンザイフ
貶Otoshiめる 貶低
粋 いき　聰明；本質
見極める 探究明了
貝柱　かいばしら
百鬼夜行　ひゃっきやこう
入力　Nyūryoku
蝶々　ちょーちょー　
ニョキニョキ 細長い物が次々に現れ出るさま
歌詞　Kashi
蜂蜜 Hachimitsu
体裁　Teisai　外貌；可接受
病んでる　Yanderu
犯した　Okashita
婉曲　Enkyoku
夜の営み（よるのいとなみ）
佳境 かきょう
新進しんしん
気鋭きえい energetic
頸椎　けいつい
投与 とうよ
医薬用外劇　Iyaku-yō-gai geki
リスクを冒（okasa）さない
与える Ataeru
陰 かげ
喜多見 きたみ
測量 そくりよう
測る はかる
山鉾巡幸（やまぼこじゅんこう）
祇園祭　ぎおんまつり
長刀・薙刀 なぎなた
五山送り火（ござんのおくりび）
隔Hedaてる
遭遇 Sōgū
脆Moroい

虹（にじ）
「赤（せき）」、
「橙（とう）」、
「黄（おう）」、
「緑（りょく）」、
「青（せい）」、
「藍（らん）」、
「紫（し）」

補Oginaいまして / 補償
葬Hōmuり 去saられた / 埋葬
惹Hiく / 吸引
脅Odoかす / 威脅
愚な / 愚蠢的
めぐみ / 恩恵
三宅 / miyake
溺oboれる / 淹
反soり / 刀片、弓的彎曲
太刀tachi / 普通的腰間刀
免Manukaれる / 逃脫
むやみ / 不必要的
遺言Yuigon
黒毛和牛くろげわぎゅう
心の底sokoから罪tsumiを償tsugunaえる / 從心底贖罪
織田信長Oda nobunaga
狸Tanuki
退Shirizoきます / 退休
六本木Roppongi
豆Mame粒tsubu
飯店Hanten
手練手管Terentekuda　/ 熟練
衰（おとろ）える
港町 Minatochi
立ta ち退noき / 驅散
風Kaza見mi鶏dori / 風向標
強Gō奪datsu
異kotoなる / 不同的
尋Jin問mon
富tomi治haru
花hana婿muko / 新郎
はぐらかされる / 被愚弄的轉移話題
貢Mitsuぐ / 獻貢
玉tamaにきず / 美中不足
きず / 刮痕
蚊Ka帳ya / 蚊帳
蹴Ke / 踢
掘Ku削ssaku / 鑽孔
收Osaまる / 適合
跡取Atotori / 繼承人
こき下oろされた / 被拉下來
扱Atsukaiいされる覚oboeえは / 被當作...而記得
よもや / 令人驚訝的感覺
水sui浸shin / 淹水(水みず浸びたし)
において / 在
白Sa湯yu / 普通熱水
颯hayate
居Isō候rō / 生活住所
乙女otome / 女子
仕Shi草gusa / 手勢
野No良ra猫neko / 流浪貓
推oし / 最喜歡的
失敗する/しくじる/抜かる/やり損sokoなう
桂Katsura木ki
真ma尋hiro
氏Furi名gana / 名字
いわく / 事情、理由
いわく付き /  有段過去的
丑uし三mitsu時doki /〔真夜中〕2:00~2:30
頭痛Zutsū
寒Samu気ke
羽Ha織ori
どん底zoko / 底部
膨Fukuらむ / 膨胀
裸Hada足shi / 赤腳
無Mu性shōに / 非常
唐Tō突totsu / 粗鲁
尾Bi行kō / 尾随
炒Itaめる / 翻炒
寅tora / 老虎
その度tobiに / 每次
泥Doro沼numa
厚Atsuみ
鞘Saya付tsuき / 帶殼
境Kyō遇gū / 情况
ウルトラ / 極端主義者
しわ / 波及、皺紋
土do手te / 堤防
堤防 → 包括沿海
土手 → 河流、池塘、沿湖岸，不包括沿海
傍Bō若jaku無bu人jin / 無人
はしゃぎ / 歡鬧
勇Isaまし / 勇敢的
ぴりついて / 堅持
赤Seki飯han / (慶祝用)紅豆飯
