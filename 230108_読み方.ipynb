{
  "nbformat": 4,
  "nbformat_minor": 0,
  "metadata": {
    "colab": {
      "provenance": [],
      "authorship_tag": "ABX9TyNFG+l16zmucqu90AAjiA60",
      "include_colab_link": true
    },
    "kernelspec": {
      "name": "python3",
      "display_name": "Python 3"
    },
    "language_info": {
      "name": "python"
    }
  },
  "cells": [
    {
      "cell_type": "markdown",
      "metadata": {
        "id": "view-in-github",
        "colab_type": "text"
      },
      "source": [
        "<a href=\"https://colab.research.google.com/github/phyop/230108_NiHonnGo/blob/main/230108_%E8%AA%AD%E3%81%BF%E6%96%B9.ipynb\" target=\"_parent\"><img src=\"https://colab.research.google.com/assets/colab-badge.svg\" alt=\"Open In Colab\"/></a>"
      ]
    },
    {
      "cell_type": "code",
      "source": [
        "《疊詞》\n",
        "\n",
        "ニョキニョキ 細長い物が次々に現れ出るさま\n",
        "蝶々 ちょーちょー \n",
        "\n"
      ],
      "metadata": {
        "id": "GKXi3BWGl0ed"
      },
      "execution_count": null,
      "outputs": []
    },
    {
      "cell_type": "code",
      "source": [
        "《不規律》\n",
        "\n",
        "300 さんびゃく\n",
        "600 ろっぴゃく\n",
        "800 はっぴゃく\n",
        "3000 さんぜん\n",
        "8000 はっせん\n"
      ],
      "metadata": {
        "id": "gijKMiZhWE7f"
      },
      "execution_count": null,
      "outputs": []
    },
    {
      "cell_type": "code",
      "source": [
        "《混淆》\n",
        "\n",
        "賄う マカナウ　提供/供給\n",
        "賄い マカナイ 員工餐\n",
        "\n",
        "耳，指的是耳朵本身\n",
        "例：我有大耳朵。我有小耳朵\n",
        "\n",
        "耳元，指靠近耳朵的區域\n",
        "例：把嘴貼近耳朵，小聲說話\n",
        "\n"
      ],
      "metadata": {
        "id": "q_soZX-pah0S"
      },
      "execution_count": null,
      "outputs": []
    },
    {
      "cell_type": "code",
      "source": [
        "虹（にじ）\n",
        "\n",
        "「赤（せき）」、\n",
        "「橙（とう）」、\n",
        "「黄（おう）」、\n",
        "「緑（りょく）」、\n",
        "「青（せい）」、\n",
        "「藍（らん）」、\n",
        "「紫（し）」"
      ],
      "metadata": {
        "id": "D5yn6efKlLAf"
      },
      "execution_count": null,
      "outputs": []
    },
    {
      "cell_type": "code",
      "source": [
        "《流行語》\n",
        "\n",
        "アラサー 熟女\n",
        "肉食系 ニクショクケイ\n",
        "谷間 タニマ 乳溝\n",
        "夜の営み（よるのいとなみ）\n"
      ],
      "metadata": {
        "id": "zYiVI8uVWSzm"
      },
      "execution_count": null,
      "outputs": []
    },
    {
      "cell_type": "code",
      "source": [
        "《外來語》\n",
        "\n",
        "ソーイングセッド 針線包\n"
      ],
      "metadata": {
        "id": "4HFSt6wSWf8x"
      },
      "execution_count": null,
      "outputs": []
    },
    {
      "cell_type": "code",
      "source": [
        "《工程》\n",
        "\n",
        "\n",
        "尺度 シャクド\n",
        "防呆 ポカヨケ \n",
        "測量 そくりよう\n",
        "測る はかる\n",
        "秤 はかり\n",
        "歪める ユガメル 扭曲\n",
        "どん底zoko / 底部\n",
        "膨Fukuらむ / 膨胀\n",
        "\n",
        "\n"
      ],
      "metadata": {
        "id": "2n5UyrEyl7qI"
      },
      "execution_count": null,
      "outputs": []
    },
    {
      "cell_type": "code",
      "source": [
        "《長句》\n",
        "\n",
        "はぐらかされる / 被愚弄的轉移話題\n",
        "心の底sokoから罪tsumiを償tsugunaえる / 從心底贖罪\n",
        "扱Atsukaiいされる覚oboeえは / 被當作...而記得\n",
        "失敗する/しくじる/抜かる/やり損sokoなう\n",
        "リスクを冒（okasa）さない 冒險\n"
      ],
      "metadata": {
        "id": "sb-3nTN3oOjD"
      },
      "execution_count": null,
      "outputs": []
    },
    {
      "cell_type": "code",
      "source": [
        "《人名、地名》\n",
        "\n",
        "雫 シズク\n",
        "柊 ヒイラギ\n",
        "早稲田 ワセダ\n",
        "八神庵 やがみ いおり\n",
        "流川楓 るかわかえで\n",
        "綾/彩 アヤ\n",
        "梓 アズさ\n",
        "喜多見 きたみ\n",
        "三宅 / miyake\n",
        "織田信長Oda nobunaga\n",
        "六本木Roppongi\n",
        "颯hayate\n",
        "乙女otome / 女子\n",
        "羽Ha織ori\n",
        "富tomi治haru\n",
        "桂Katsura木ki\n",
        "真ma尋hiro\n",
        "氏Furi名gana / 名字\n",
        "\n",
        "\n"
      ],
      "metadata": {
        "id": "5UDJyhQqXBXx"
      },
      "execution_count": null,
      "outputs": []
    },
    {
      "cell_type": "code",
      "source": [
        "《旅遊/食物》\n",
        "\n",
        "箸休め ハシやすめ 小菜\n",
        "百鬼夜行 ひゃっきやこう\n",
        "貝柱 かいばしら\n",
        "蜂蜜 Hachimitsu\n",
        "鯉 コイ\n",
        "山鉾巡幸（やまぼこじゅんこう）\n",
        "祇園祭 ぎおんまつり\n",
        "長刀・薙刀 なぎなた\n",
        "反soり / 刀片、弓的彎曲\n",
        "鞘Saya付tsuき / 帶殼\n",
        "太刀tachi / 普通的腰間刀\n",
        "五山送り火（ござんのおくりび）\n",
        "黒毛和牛 くろげわぎゅう\n",
        "狸Tanuki\n",
        "港町 Minatochi\n",
        "白Sa湯yu / 普通熱水\n",
        "飯店Hanten\n",
        "野No良ra猫neko / 流浪貓\n",
        "蚊Ka帳ya / 蚊帳\n",
        "赤Seki飯han / (慶祝用)紅豆飯\n",
        "しわ / 波及、皺紋\n",
        "土do手te / 堤防\n",
        "堤防   包括沿海\n",
        "土手   河流、池塘、沿湖岸，不包括沿海\n",
        "傍Bō若jaku無bu人jin / 無人\n",
        "炒Itaめる / 翻炒\n",
        "水sui浸shin / 淹水(水みず浸びたし)\n",
        "において / 在\n",
        "居Isō候rō / 生活住所\n",
        "仕Shi草gusa / 手勢\n",
        "推oし / 最喜歡的\n",
        "泥Doro沼numa\n",
        "\n"
      ],
      "metadata": {
        "id": "sZ4WZ0nCmPPu"
      },
      "execution_count": null,
      "outputs": []
    },
    {
      "cell_type": "code",
      "source": [
        "《醫學》\n",
        "\n",
        "捻挫 ねんざ 扭傷\n",
        "医薬用外劇 Iyaku-yō-gai geki\n",
        "頸椎 けいつい\n",
        "病んでる Yanderu\n",
        "丑uし三mitsu時doki /〔真夜中〕2:00~2:30\n",
        "頭痛Zutsū\n",
        "寒Samu気ke\n",
        "裸Hada足shi / 赤腳\n",
        "溺oboれる / 淹\n"
      ],
      "metadata": {
        "id": "stzt2oXbmgDK"
      },
      "execution_count": null,
      "outputs": []
    },
    {
      "cell_type": "code",
      "execution_count": null,
      "metadata": {
        "id": "rA4_4UZgjquq"
      },
      "outputs": [],
      "source": [
        "《一般》\n",
        "\n",
        "羽目 Hame 絆腳石\n",
        "熱血 ネッケツ\n",
        "生協 せいきょう 合作社\n",
        "携わる たずさわる 提攜\n",
        "覆（くつがえ）される 推翻\n",
        "記されて シルサレテ 記錄\n",
        "愛しい イトシイ 愛慕\n",
        "虚しい ムナシイ 空虛\n",
        "仮面 カメン\n",
        "告げ口 ツゲグチ 告密\n",
        "提げて サゲテ 攜帶\n",
        "免罪符 メンザイフ\n",
        "貶Otoshiめる 貶低\n",
        "粋 いき 聰明；本質\n",
        "見極める 探究明了\n",
        "入力 Nyūryoku\n",
        "歌詞 Kashi\n",
        "体裁 Teisai 外貌；可接受\n",
        "犯した Okashita\n",
        "婉曲 Enkyoku\n",
        "佳境 かきょう\n",
        "新進しんしん\n",
        "気鋭きえい energetic\n",
        "投与 とうよ\n",
        "与える Ataeru\n",
        "陰 かげ\n",
        "隔Hedaてる\n",
        "遭遇 Sōgū\n",
        "脆Moroい\n",
        "補Oginaいまして / 補償\n",
        "葬Hōmuり 去saられた / 埋葬\n",
        "惹Hiく / 吸引\n",
        "脅Odoかす / 威脅\n",
        "愚な / 愚蠢的\n",
        "めぐみ / 恩恵\n",
        "免Manukaれる / 逃脫\n",
        "むやみ / 不必要的\n",
        "遺言Yuigon\n",
        "退Shirizoきます / 退休\n",
        "豆Mame粒tsubu\n",
        "手練手管Terentekuda / 熟練\n",
        "衰（おとろ）える\n",
        "立ta ち退noき / 驅散\n",
        "風Kaza見mi鶏dori / 風向標\n",
        "強Gō奪datsu\n",
        "異kotoなる / 不同的\n",
        "尋Jin問mon\n",
        "花hana婿muko / 新郎\n",
        "貢Mitsuぐ / 獻貢\n",
        "玉tamaにきず / 美中不足\n",
        "きず / 刮痕\n",
        "蹴Ke / 踢\n",
        "掘Ku削ssaku / 鑽孔\n",
        "收Osaまる / 適合\n",
        "跡取Atotori / 繼承人\n",
        "こき下oろされた / 被拉下來\n",
        "よもや / 令人驚訝的感覺\n",
        "いわく / 事情、理由\n",
        "いわく付き /  有段過去的\n",
        "無Mu性shōに / 非常\n",
        "唐Tō突totsu / 粗鲁\n",
        "尾Bi行kō / 尾随\n",
        "寅tora / 老虎\n",
        "その度tobiに / 每次\n",
        "厚Atsuみ\n",
        "境Kyō遇gū / 情况\n",
        "ウルトラ / 極端主義者\n",
        "はしゃぎ / 歡鬧\n",
        "勇Isaまし / 勇敢的\n",
        "ぴりついて / 堅持\n",
        "\n"
      ]
    }
  ]
}